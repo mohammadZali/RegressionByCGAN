{
  "nbformat": 4,
  "nbformat_minor": 0,
  "metadata": {
    "colab": {
      "name": "AirRF.ipynb",
      "provenance": [],
      "mount_file_id": "1eBPlTeYaBFS5b_rz1M0eFZPgKcyQ7qKx",
      "authorship_tag": "ABX9TyNB4ebEBfbqsdOvOMy9c/KN",
      "include_colab_link": true
    },
    "kernelspec": {
      "name": "python3",
      "display_name": "Python 3"
    },
    "language_info": {
      "name": "python"
    },
    "accelerator": "GPU"
  },
  "cells": [
    {
      "cell_type": "markdown",
      "metadata": {
        "id": "view-in-github",
        "colab_type": "text"
      },
      "source": [
        "<a href=\"https://colab.research.google.com/github/mohammadZali/RegressionByCGAN/blob/main/AirRF.ipynb\" target=\"_parent\"><img src=\"https://colab.research.google.com/assets/colab-badge.svg\" alt=\"Open In Colab\"/></a>"
      ]
    },
    {
      "cell_type": "code",
      "metadata": {
        "id": "lxSatQfcKHrS"
      },
      "source": [
        "from sklearn.metrics import accuracy_score\n",
        "import numpy as np\n",
        "import pandas as pd \n",
        "from sklearn import preprocessing\n",
        "import os\n",
        "from google.colab import drive\n",
        "import tensorflow as tf\n",
        "from sklearn.preprocessing import MinMaxScaler\n",
        "from sklearn.model_selection import cross_validate, cross_val_predict\n",
        "from sklearn.model_selection import KFold, StratifiedKFold\n",
        "from sklearn.metrics import mean_squared_error, mean_absolute_error, r2_score\n",
        "from __future__ import print_function, division\n",
        "import numpy as np\n",
        "from keras.layers import Input\n",
        "from keras.models import Model\n",
        "from keras.optimizers import Adam, SGD\n",
        "import keras\n",
        "from keras import Input, Model\n",
        "from keras.layers import Dense, LeakyReLU, concatenate"
      ],
      "execution_count": null,
      "outputs": []
    },
    {
      "cell_type": "code",
      "metadata": {
        "id": "hnoOtopaKPCR"
      },
      "source": [
        "df=pd.read_csv('/content/drive/MyDrive/project8/fAOD_PM_g3_55.csv')"
      ],
      "execution_count": null,
      "outputs": []
    },
    {
      "cell_type": "code",
      "metadata": {
        "id": "SmbwWBAIKSQB"
      },
      "source": [
        "df['varPM']=df[\"PMc\"]\n",
        "df['varAOD'] = df[\"nAODm\"] "
      ],
      "execution_count": null,
      "outputs": []
    },
    {
      "cell_type": "code",
      "metadata": {
        "colab": {
          "base_uri": "https://localhost:8080/"
        },
        "id": "ztSnT5aoKVNC",
        "outputId": "3e48b9f8-5eed-4eea-e7e7-c9d7a69f8e14"
      },
      "source": [
        "X = df[['varAOD', 'lat', 'long', 'Prob_bestm', 'Prob_medm', 'month', 'd2m', 't2m','blh',\n",
        "      'sp', 'lai_hv', 'lai_lv', 'ws10', 'wd10', 'cdir', 'uvb', 'RH', 'DOY']]\n",
        "\n",
        "print(X.columns)\n",
        "y = df[['varPM']]\n",
        "y = y.to_numpy()\n",
        "\n",
        "scaler = MinMaxScaler()\n",
        "Xs = scaler.fit_transform(X)\n",
        "print(Xs.shape)\n",
        "print(y.shape)\n",
        "\n",
        "cv = KFold(n_splits=10, random_state=1, shuffle=True)\n",
        "\n",
        "i = 0\n",
        "for train_index, test_index in cv.split(X):\n",
        "  print(\"loop:\", i)\n",
        "  if i == 6:\n",
        "    print( \"TRAIN:\", train_index, \"TEST:\", test_index)\n",
        "    break\n",
        "  else:\n",
        "    i+=1\n",
        "Xtrain = Xs[train_index]\n",
        "ytrain = y[train_index]\n",
        "\n",
        "Xtest = Xs[test_index]\n",
        "ytest = y[test_index]\n",
        "\n",
        "print(Xtrain.shape)\n",
        "print(ytrain.shape)"
      ],
      "execution_count": null,
      "outputs": [
        {
          "output_type": "stream",
          "text": [
            "Index(['varAOD', 'lat', 'long', 'Prob_bestm', 'Prob_medm', 'month', 'd2m',\n",
            "       't2m', 'blh', 'sp', 'lai_hv', 'lai_lv', 'ws10', 'wd10', 'cdir', 'uvb',\n",
            "       'RH', 'DOY'],\n",
            "      dtype='object')\n",
            "(19862, 18)\n",
            "(19862, 1)\n",
            "loop: 0\n",
            "loop: 1\n",
            "loop: 2\n",
            "loop: 3\n",
            "loop: 4\n",
            "loop: 5\n",
            "loop: 6\n",
            "TRAIN: [    0     4     5 ... 19859 19860 19861] TEST: [    1     2     3 ... 19843 19846 19850]\n",
            "(17876, 18)\n",
            "(17876, 1)\n"
          ],
          "name": "stdout"
        }
      ]
    },
    {
      "cell_type": "code",
      "metadata": {
        "colab": {
          "base_uri": "https://localhost:8080/"
        },
        "id": "d-cQF5WEKqZf",
        "outputId": "3c848e52-8cd2-404d-a5b2-8969b1dc20df"
      },
      "source": [
        "from sklearn.ensemble import RandomForestRegressor\n",
        "\n",
        "# Instantiate model with 1000 decision trees\n",
        "rf = RandomForestRegressor(n_estimators = 1000, random_state = 42)\n",
        "# Train the model on training data\n",
        "rf.fit(Xtrain, ytrain);\n",
        "\n"
      ],
      "execution_count": null,
      "outputs": [
        {
          "output_type": "stream",
          "text": [
            "/usr/local/lib/python3.7/dist-packages/ipykernel_launcher.py:6: DataConversionWarning: A column-vector y was passed when a 1d array was expected. Please change the shape of y to (n_samples,), for example using ravel().\n",
            "  \n"
          ],
          "name": "stderr"
        }
      ]
    },
    {
      "cell_type": "code",
      "metadata": {
        "colab": {
          "base_uri": "https://localhost:8080/"
        },
        "id": "MYyU-HrQMAFx",
        "outputId": "78272617-28e6-4838-81e4-ddc9abcc226a"
      },
      "source": [
        "dftest = df.loc[test_index]\n",
        "\n",
        "\n",
        "# prediction on validation data\n",
        "dftest[\"y_pred\"] = rf.predict(Xtest)\n",
        "\n",
        "def NominalPM(row):\n",
        "    return row[\"y_pred\"]/((1-row[\"RH\"])**(-1))\n",
        "dftest[\"PMp\"] = dftest.apply(NominalPM, axis = 1)\n",
        "\n",
        "print (\"RMSE: \", np.round(mean_squared_error(dftest[\"PMp\"], dftest[\"PM2.5\"], squared=False),2))\n",
        "print (\"MAE: \", np.round(mean_absolute_error(dftest[\"PM2.5\"], dftest[\"PMp\"]),2))\n",
        "from scipy.stats import pearsonr\n",
        "corr, _ = pearsonr(dftest[\"y_pred\"], dftest[\"PMc\"])\n",
        "print('Pearsons R2 correlation: %.3f' % corr**2)"
      ],
      "execution_count": null,
      "outputs": [
        {
          "output_type": "stream",
          "text": [
            "RMSE:  8.42\n",
            "MAE:  6.47\n",
            "Pearsons R2 correlation: 0.779\n"
          ],
          "name": "stdout"
        }
      ]
    }
  ]
}