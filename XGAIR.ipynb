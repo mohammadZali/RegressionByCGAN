{
  "nbformat": 4,
  "nbformat_minor": 0,
  "metadata": {
    "colab": {
      "name": "XGAIR.ipynb",
      "provenance": [],
      "collapsed_sections": [],
      "include_colab_link": true
    },
    "kernelspec": {
      "name": "python3",
      "display_name": "Python 3"
    }
  },
  "cells": [
    {
      "cell_type": "markdown",
      "metadata": {
        "id": "view-in-github",
        "colab_type": "text"
      },
      "source": [
        "<a href=\"https://colab.research.google.com/github/mohammadZali/RegressionByCGAN/blob/main/XGAIR.ipynb\" target=\"_parent\"><img src=\"https://colab.research.google.com/assets/colab-badge.svg\" alt=\"Open In Colab\"/></a>"
      ]
    },
    {
      "cell_type": "code",
      "metadata": {
        "id": "k8GQcq5A6QBH"
      },
      "source": [
        "from sklearn.metrics import accuracy_score\n",
        "import numpy as np\n",
        "import pandas as pd \n",
        "from sklearn import preprocessing\n",
        "import os\n",
        "from google.colab import drive\n",
        "import tensorflow as tf\n",
        "from sklearn.preprocessing import MinMaxScaler\n",
        "from sklearn.model_selection import cross_validate, cross_val_predict\n",
        "from sklearn.model_selection import KFold, StratifiedKFold\n",
        "from sklearn.metrics import mean_squared_error, mean_absolute_error, r2_score\n",
        "from __future__ import print_function, division\n",
        "import numpy as np\n",
        "from keras.layers import Input\n",
        "from keras.models import Model\n",
        "from keras.optimizers import Adam, SGD\n",
        "import keras\n",
        "from keras import Input, Model\n",
        "from keras.layers import Dense, LeakyReLU, concatenate"
      ],
      "execution_count": null,
      "outputs": []
    },
    {
      "cell_type": "code",
      "metadata": {
        "id": "xCRCEzFi6XAl"
      },
      "source": [
        "df=pd.read_csv('/content/drive/MyDrive/project8/fAOD_PM_g3_55.csv')"
      ],
      "execution_count": null,
      "outputs": []
    },
    {
      "cell_type": "code",
      "metadata": {
        "id": "XPV51x_Z6joV"
      },
      "source": [
        "df['varPM']=df[\"PMc\"]\n",
        "df['varAOD'] = df[\"nAODm\"] "
      ],
      "execution_count": null,
      "outputs": []
    },
    {
      "cell_type": "code",
      "metadata": {
        "colab": {
          "base_uri": "https://localhost:8080/"
        },
        "id": "Kf4Ikhg66lpP",
        "outputId": "58ac17e6-d725-4b65-feb5-46ca23eac590"
      },
      "source": [
        "X = df[['varAOD', 'lat', 'long', 'Prob_bestm', 'Prob_medm', 'month', 'd2m', 't2m','blh',\n",
        "      'sp', 'lai_hv', 'lai_lv', 'ws10', 'wd10', 'cdir', 'uvb', 'RH', 'DOY']]\n",
        "\n",
        "print(X.columns)\n",
        "y = df[['varPM']]\n",
        "y = y.to_numpy()\n",
        "\n",
        "scaler = MinMaxScaler()\n",
        "Xs = scaler.fit_transform(X)\n",
        "print(Xs.shape)\n",
        "print(y.shape)\n",
        "\n",
        "cv = KFold(n_splits=10, random_state=1, shuffle=True)\n",
        "\n",
        "i = 0\n",
        "for train_index, test_index in cv.split(X):\n",
        "  print(\"loop:\", i)\n",
        "  if i == 6:\n",
        "    print( \"TRAIN:\", train_index, \"TEST:\", test_index)\n",
        "    break\n",
        "  else:\n",
        "    i+=1\n",
        "Xtrain = Xs[train_index]\n",
        "ytrain = y[train_index]\n",
        "\n",
        "Xtest = Xs[test_index]\n",
        "ytest = y[test_index]\n",
        "\n",
        "print(Xtrain.shape)\n",
        "print(ytrain.shape)"
      ],
      "execution_count": null,
      "outputs": [
        {
          "output_type": "stream",
          "text": [
            "Index(['varAOD', 'lat', 'long', 'Prob_bestm', 'Prob_medm', 'month', 'd2m',\n",
            "       't2m', 'blh', 'sp', 'lai_hv', 'lai_lv', 'ws10', 'wd10', 'cdir', 'uvb',\n",
            "       'RH', 'DOY'],\n",
            "      dtype='object')\n",
            "(19862, 18)\n",
            "(19862, 1)\n",
            "loop: 0\n",
            "loop: 1\n",
            "loop: 2\n",
            "loop: 3\n",
            "loop: 4\n",
            "loop: 5\n",
            "loop: 6\n",
            "TRAIN: [    0     4     5 ... 19859 19860 19861] TEST: [    1     2     3 ... 19843 19846 19850]\n",
            "(17876, 18)\n",
            "(17876, 1)\n"
          ],
          "name": "stdout"
        }
      ]
    },
    {
      "cell_type": "code",
      "metadata": {
        "colab": {
          "base_uri": "https://localhost:8080/"
        },
        "id": "lQYBxWkz6rUU",
        "outputId": "3d11b754-283b-448b-bfb3-be4faeda1101"
      },
      "source": [
        "#XGBOOST \n",
        "from sklearn.model_selection import cross_validate, cross_val_predict\n",
        "from sklearn.model_selection import KFold, StratifiedKFold\n",
        "from sklearn.metrics import mean_squared_error, mean_absolute_error\n",
        "import xgboost as xgb\n",
        "\n",
        "xg_reg = xgb.XGBRegressor(objective ='reg:linear', colsample_bytree = 0.2, learning_rate = 0.1,\n",
        "                max_depth = 10, alpha = 10, n_estimators = 1000)\n",
        "\n",
        "xg_reg.fit(Xtrain,ytrain)\n",
        "\n",
        "preds = xg_reg.predict(Xtest)\n",
        "\n",
        "rmse = np.sqrt(mean_squared_error(ytest, preds))\n",
        "print(\"RMSE: %f\" % (rmse))"
      ],
      "execution_count": null,
      "outputs": [
        {
          "output_type": "stream",
          "text": [
            "[10:01:54] WARNING: /workspace/src/objective/regression_obj.cu:152: reg:linear is now deprecated in favor of reg:squarederror.\n",
            "RMSE: 29.739966\n"
          ],
          "name": "stdout"
        }
      ]
    },
    {
      "cell_type": "code",
      "metadata": {
        "colab": {
          "base_uri": "https://localhost:8080/"
        },
        "id": "ZUIuKBO8u7l6",
        "outputId": "efa00255-b1f5-4181-a9a6-9a01555f636b"
      },
      "source": [
        "dftest = df.loc[test_index]\n",
        "\n",
        "\n",
        "# prediction on validation data\n",
        "dftest[\"y_pred\"] = xg_reg.predict(Xtest)\n",
        "\n",
        "def NominalPM(row):\n",
        "    return row[\"y_pred\"]/((1-row[\"RH\"])**(-1))\n",
        "dftest[\"PMp\"] = dftest.apply(NominalPM, axis = 1)\n",
        "\n",
        "print (\"RMSE: \", np.round(mean_squared_error(dftest[\"PMp\"], dftest[\"PM2.5\"], squared=False),2))\n",
        "print (\"MAE: \", np.round(mean_absolute_error(dftest[\"PM2.5\"], dftest[\"PMp\"]),2))\n",
        "from scipy.stats import pearsonr\n",
        "corr, _ = pearsonr(dftest[\"y_pred\"], dftest[\"PMc\"])\n",
        "print('Pearsons R2 correlation: %.3f' % corr**2)"
      ],
      "execution_count": null,
      "outputs": [
        {
          "output_type": "stream",
          "text": [
            "RMSE:  8.13\n",
            "MAE:  6.23\n",
            "Pearsons R2 correlation: 0.795\n"
          ],
          "name": "stdout"
        }
      ]
    }
  ]
}